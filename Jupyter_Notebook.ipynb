{
 "cells": [
  {
   "cell_type": "markdown",
   "metadata": {},
   "source": [
    "# My Jupyter Notebook on IBM Watson Studio"
   ]
  },
  {
   "cell_type": "markdown",
   "metadata": {},
   "source": [
    "**Tarik Rebiai**  \n",
    "Data Analyst at National Bank"
   ]
  },
  {
   "cell_type": "markdown",
   "metadata": {},
   "source": [
    "*my passion to data science came from my background in university as i graduated as engineer in statistics, with time passing i realized that data science is the future for my career as well as a hobby to practice in my daily life*"
   ]
  },
  {
   "cell_type": "markdown",
   "metadata": {},
   "source": [
    "### the next code is a simple math calculation that shows how can a small continuous effort can affect on results:"
   ]
  },
  {
   "cell_type": "code",
   "execution_count": 18,
   "metadata": {},
   "outputs": [
    {
     "data": {
      "text/plain": [
       "37.78343433288728"
      ]
     },
     "execution_count": 18,
     "metadata": {},
     "output_type": "execute_result"
    }
   ],
   "source": [
    "1.01**365"
   ]
  },
  {
   "cell_type": "markdown",
   "metadata": {},
   "source": [
    "1. order numbers don't matter\n",
    "4. here is number 4 but it shows as 2.\n",
    "* Unordered list can use *\n",
    "- Or minuses -\n",
    "+ Or pluses +"
   ]
  },
  {
   "cell_type": "code",
   "execution_count": null,
   "metadata": {},
   "outputs": [],
   "source": []
  }
 ],
 "metadata": {
  "kernelspec": {
   "display_name": "Python",
   "language": "python",
   "name": "conda-env-python-py"
  },
  "language_info": {
   "codemirror_mode": {
    "name": "ipython",
    "version": 3
   },
   "file_extension": ".py",
   "mimetype": "text/x-python",
   "name": "python",
   "nbconvert_exporter": "python",
   "pygments_lexer": "ipython3",
   "version": "3.7.12"
  }
 },
 "nbformat": 4,
 "nbformat_minor": 4
}
